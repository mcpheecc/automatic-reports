{
 "cells": [
  {
   "cell_type": "code",
   "execution_count": 1,
   "metadata": {
    "collapsed": true
   },
   "outputs": [],
   "source": [
    "import pandas as pd\n",
    "import numpy as np\n",
    "import random\n",
    "import time\n",
    "import math\n",
    "import os\n",
    "import seaborn as sb\n",
    "import matplotlib.pyplot as plt"
   ]
  },
  {
   "cell_type": "code",
   "execution_count": 2,
   "metadata": {
    "collapsed": true
   },
   "outputs": [],
   "source": [
    "def create_phone_call():\n",
    "    #\"Call Start\",\"Call End\",\"Client\",\"Employee\",\"Customer Feedback\",\"Sales\",\"Age of Account\",\"Demographic Profile\",\"Account Type\",\"Last Reported Credit Score\",\"Leads Generated\"\n",
    "    call_length = random.uniform(0,45)\n",
    "    call_start = random.uniform(0,420)\n",
    "    call_end = call_start+call_length\n",
    "    client = random.randint(0,100)\n",
    "    employee = random.randint(0,5)\n",
    "    account_age = math.floor(client/10)\n",
    "    profile = math.floor(client/7)\n",
    "    account_type = math.floor(client/20)\n",
    "    last_credit = math.floor(client*5.5+300)\n",
    "    sales = random.randint(0,20)\n",
    "    if account_age > 5:\n",
    "        sales +=1\n",
    "    if profile > 12:\n",
    "        sales +=1\n",
    "    if account_type > 4:\n",
    "        sales +=1\n",
    "    if last_credit>700:\n",
    "        sales +=1\n",
    "    if sales>20:\n",
    "        sales = True\n",
    "    else:\n",
    "        sales = False\n",
    "    if sales:\n",
    "        leads_gen = random.randint(0,2)+1\n",
    "    else:\n",
    "        leads_gen = leads_gen = random.randint(0,20)\n",
    "        if leads_gen < 10:\n",
    "            leads_gen = 0\n",
    "        elif leads_gen < 15:\n",
    "            leads_gen = 1\n",
    "        elif leads_gen < 18:\n",
    "            leads_gen = 2\n",
    "        else:\n",
    "            leads_gen = 3\n",
    "    if sales:\n",
    "        customer_feedback = random.randint(0,1) + 4\n",
    "    else:\n",
    "        customer_feedback = random.randint(1,5) + leads_gen\n",
    "    customer_feedback = min(customer_feedback,5)\n",
    "    df = pd.DataFrame({\"Call Start\":[call_start],\"Call End\":[call_end],\"Client\":[client],\"Employee\":[employee],\"Customer Feedback\":[customer_feedback],\"Sales\":[sales],\"Age of Account\":[account_age],\"Demographic Profile\":[profile],\"Account Type\":[account_type],\"Last Reported Credit Score\":[last_credit],\"Leads Generated\":[leads_gen]},columns=[\"Call Start\",\"Call End\",\"Client\",\"Employee\",\"Customer Feedback\",\"Sales\",\"Age of Account\",\"Demographic Profile\",\"Account Type\",\"Last Reported Credit Score\",\"Leads Generated\"])\n",
    "    #return [call_start,call_end,client,employee,customer_feedback,sales,account_age,profile,account_type,last_credit,leads_gen]\n",
    "    return df"
   ]
  },
  {
   "cell_type": "code",
   "execution_count": 3,
   "metadata": {
    "collapsed": true
   },
   "outputs": [],
   "source": [
    "def create_phone_log():\n",
    "    calls = random.randint(1,20)\n",
    "    call_log = []\n",
    "    for i in range(calls):\n",
    "        call_log.append(create_phone_call())\n",
    "    df = pd.concat(call_log)\n",
    "    return df"
   ]
  },
  {
   "cell_type": "code",
   "execution_count": 4,
   "metadata": {
    "collapsed": true
   },
   "outputs": [],
   "source": [
    "for i in range(30):\n",
    "    df = create_phone_log()\n",
    "    df.to_csv(\"dataset/bank/log/day\"+str(i+1)+\".csv\",index=False)"
   ]
  },
  {
   "cell_type": "code",
   "execution_count": null,
   "metadata": {
    "collapsed": true
   },
   "outputs": [],
   "source": []
  }
 ],
 "metadata": {
  "kernelspec": {
   "display_name": "Python 3",
   "language": "python",
   "name": "python3"
  },
  "language_info": {
   "codemirror_mode": {
    "name": "ipython",
    "version": 3
   },
   "file_extension": ".py",
   "mimetype": "text/x-python",
   "name": "python",
   "nbconvert_exporter": "python",
   "pygments_lexer": "ipython3",
   "version": "3.6.1"
  }
 },
 "nbformat": 4,
 "nbformat_minor": 2
}
